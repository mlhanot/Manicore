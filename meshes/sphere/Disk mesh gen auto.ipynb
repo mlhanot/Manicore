{
 "cells": [
  {
   "cell_type": "code",
   "execution_count": null,
   "metadata": {},
   "outputs": [],
   "source": [
    "import numpy as np\n",
    "def circle(nb_pts,radius):\n",
    "    Lx = []\n",
    "    Ly = []\n",
    "    for i in range(nb_pts):\n",
    "        Lx.append(radius*np.cos(2*np.pi*i/nb_pts))\n",
    "        Ly.append(radius*np.sin(2*np.pi*i/nb_pts))\n",
    "    return Lx, Ly"
   ]
  },
  {
   "cell_type": "code",
   "execution_count": null,
   "metadata": {},
   "outputs": [],
   "source": [
    "rStep = 0.2\n",
    "nb0 = int(2*np.pi*(1 - rStep)/rStep)\n",
    "delta_alpha = 2*np.pi/nb0 # used to compute the mapping of the boundary faces and edges\n",
    "outer_radius = 1\n",
    "x1_radius = outer_radius - rStep\n",
    "x,y = circle(nb0,1)\n",
    "xL = [x]\n",
    "yL = [y]\n",
    "for i in range(1,int(1/rStep)):\n",
    "    x,y = circle(nb0,1-i*rStep)\n",
    "    xL.append(x)\n",
    "    yL.append(y)\n",
    "    nb0 -= 6\n",
    "\n",
    "xL.append([0.])\n",
    "yL.append([0.])"
   ]
  },
  {
   "cell_type": "code",
   "execution_count": null,
   "metadata": {},
   "outputs": [],
   "source": [
    "xCols = xL[0].copy()\n",
    "yCols = yL[0].copy()\n",
    "for x in xL[1:]:\n",
    "    xCols += x\n",
    "    xCols += x\n",
    "for y in yL[1:]:\n",
    "    yCols += y\n",
    "    yCols += y\n",
    "import matplotlib.pyplot as plt\n",
    "valL = [1]\n",
    "for i in range(1,len(xCols)):\n",
    "    valL.append(valL[-1]+1)\n",
    "fig, ax = plt.subplots(figsize=(12, 12))\n",
    "ax.scatter(xCols,yCols)"
   ]
  },
  {
   "cell_type": "code",
   "execution_count": null,
   "metadata": {},
   "outputs": [],
   "source": [
    "import json\n",
    "M = dict([('Map',{'Outer_dimension':3,'Arguments':[None,[42]],'Arguments_metric':[None,None]}),('Dimension',2),('Cells',[[],[],[]])])\n",
    "def add_vertex_both(x,y):\n",
    "    ax.text(x,y,'{}'.format(len(M['Cells'][0])),color='red',fontsize='small')\n",
    "    M['Cells'][0].append({'Map_ids':[0,1],'Location':[[x,y],[x,y]]})       \n",
    "    \n",
    "def add_vertex(x,y,map_id):\n",
    "    ax.text(x+0.05*map_id,y,'{}'.format(len(M['Cells'][0])),color='red',fontsize='small')\n",
    "    M['Cells'][0].append({'Map_ids':[map_id],'Location':[[x,y]]})\n",
    "             \n",
    "def add_edge(v1,v2,map_id):\n",
    "    ax.text((xCols[v1]+xCols[v2])/2.+0.05*map_id,(yCols[v1]+yCols[v2])/2.,'{}'.format(len(M['Cells'][1])),fontsize='small')\n",
    "    M['Cells'][1].append({'Map_ids':[map_id],'Mappings':[0],'Ref_elem':None,'Boundary':[v1,v2]})\n",
    "    \n",
    "def add_face(edges,map_id):\n",
    "    # plot\n",
    "    xmid = 0.\n",
    "    ymid = 0.\n",
    "    for i in edges:\n",
    "        xmid += xCols[M['Cells'][1][i]['Boundary'][0]]\n",
    "        xmid += xCols[M['Cells'][1][i]['Boundary'][1]]\n",
    "        ymid += yCols[M['Cells'][1][i]['Boundary'][0]]\n",
    "        ymid += yCols[M['Cells'][1][i]['Boundary'][1]]\n",
    "    xmid = xmid/(2.*len(edges))\n",
    "    ymid = ymid/(2.*len(edges))\n",
    "    ax.text(xmid+0.05*map_id,ymid,'{}'.format(len(M['Cells'][2])),color='blue',fontsize='small')\n",
    "    # add data\n",
    "    M['Cells'][2].append({'Map_ids':[map_id],'Mappings':[0],'Ref_elem':None,'Boundary':edges.copy()})\n"
   ]
  },
  {
   "cell_type": "code",
   "execution_count": null,
   "metadata": {},
   "outputs": [],
   "source": [
    "def add_edge_circle(v1,v2,shift_step):\n",
    "    extra = shift_step*delta_alpha - (np.pi-delta_alpha)/2.\n",
    "    ax.text((xCols[v1]+xCols[v2])/2.,(yCols[v1]+yCols[v2])/2.,'{}'.format(len(M['Cells'][1])),fontsize='small')\n",
    "    base_ratio = np.cos((np.pi-delta_alpha)/2.)/np.sin((np.pi-delta_alpha)/2.)\n",
    "    M['Cells'][1].append({'Map_ids':[0,1],'Mappings':[1,1],\n",
    "                          'Mappings_extra_args':[[base_ratio,outer_radius,\n",
    "                                                  np.cos(extra),np.sin(extra)],\n",
    "                                                [base_ratio,outer_radius,\n",
    "                                                  np.cos(extra),np.sin(extra)]],\n",
    "                          'Ref_elem':[[[-0.5],[0.5]]],'Boundary':[v1,v2]})\n",
    "def add_face_circle(edges,shift_step,map_id):\n",
    "    # plot\n",
    "    xmid = 0.\n",
    "    ymid = 0.\n",
    "    for i in edges:\n",
    "        xmid += xCols[M['Cells'][1][i]['Boundary'][0]]\n",
    "        xmid += xCols[M['Cells'][1][i]['Boundary'][1]]\n",
    "        ymid += yCols[M['Cells'][1][i]['Boundary'][0]]\n",
    "        ymid += yCols[M['Cells'][1][i]['Boundary'][1]]\n",
    "    xmid = xmid/(2.*len(edges))\n",
    "    ymid = ymid/(2.*len(edges))\n",
    "    ax.text(xmid+0.05*map_id,ymid,'{}'.format(len(M['Cells'][2])),color='blue',fontsize='small')\n",
    "    # add data\n",
    "    extra = shift_step*delta_alpha - (np.pi-delta_alpha)/2.\n",
    "    ref_alpha_l = (np.pi+delta_alpha)/2.\n",
    "    ref_alpha_r = (np.pi-delta_alpha)/2.\n",
    "    v1 = [-0.5,0]\n",
    "    v2 = [0.5,0]\n",
    "    v3 = [0.5,1]\n",
    "    v4 = [-0.5,1]\n",
    "    M['Cells'][2].append({'Map_ids':[map_id],'Mappings':[1],\n",
    "                          'Mappings_extra_args':[[outer_radius*np.cos((np.pi-delta_alpha)/2.),\n",
    "                                                  x1_radius*np.cos((np.pi-delta_alpha)/2.),\n",
    "                                                  outer_radius*np.sin((np.pi-delta_alpha)/2.),\n",
    "                                                  x1_radius*np.sin((np.pi-delta_alpha)/2.),\n",
    "                                                  np.cos(extra),np.sin(extra)]],\n",
    "                          'Ref_elem':[[v1,v2,v3],[v1,v3,v4]],\n",
    "                          'Boundary':edges.copy()})      \n"
   ]
  },
  {
   "cell_type": "code",
   "execution_count": null,
   "metadata": {},
   "outputs": [],
   "source": [
    "# Insert all vertices\n",
    "for i in range(len(xL[0])):\n",
    "    add_vertex_both(xL[0][i],yL[0][i])\n",
    "for j in range(1,len(xL)):\n",
    "    for i in range(len(xL[j])):\n",
    "        add_vertex(xL[j][i],yL[j][i],0)\n",
    "    for i in range(len(xL[j])):\n",
    "        add_vertex(xL[j][i],yL[j][i],1)"
   ]
  },
  {
   "cell_type": "code",
   "execution_count": null,
   "metadata": {},
   "outputs": [],
   "source": [
    "fig"
   ]
  },
  {
   "cell_type": "code",
   "execution_count": null,
   "metadata": {},
   "outputs": [],
   "source": [
    "offsetVLayer = [[0,0]]\n",
    "for j in range(1,len(xL)):\n",
    "    offsetVLayer.append([offsetVLayer[-1][1]+len(xL[j-1]),0])\n",
    "    offsetVLayer[-1][1] = offsetVLayer[-1][0] + len(xL[j])\n",
    "offsetELayer = offsetVLayer[:-1].copy()\n",
    "offsetECross = [[offsetELayer[-1][1]+len(xL[-2]),offsetELayer[-1][1]+len(xL[-2])+len(xL[1])]]\n",
    "for j in range(2,len(xL)-1):\n",
    "    offsetECross.append([offsetECross[-1][1]+len(xL[j-1]),0])\n",
    "    offsetECross[-1][1] = offsetECross[-1][0] + len(xL[j])"
   ]
  },
  {
   "cell_type": "code",
   "execution_count": null,
   "metadata": {},
   "outputs": [],
   "source": [
    "# Insert boundary layer edges\n",
    "for i in range(len(xL[0])-1):\n",
    "    add_edge_circle(i+1,i,i) # The mapping is clockwise, and the order must match\n",
    "add_edge_circle(0,len(xL[0])-1,len(xL[0])-1)\n",
    "# Flat circle layer\n",
    "for j in range(1,len(offsetELayer)):\n",
    "    for side in range(2):\n",
    "        for i in range(len(xL[j])-1):\n",
    "            add_edge(i+offsetVLayer[j][side],i+offsetVLayer[j][side]+1,side)\n",
    "        add_edge(len(xL[j])-1+offsetVLayer[j][side],offsetVLayer[j][side],side)\n"
   ]
  },
  {
   "cell_type": "code",
   "execution_count": null,
   "metadata": {},
   "outputs": [],
   "source": [
    "#insert the cross edges on the outer layer\n",
    "for side in range(2):\n",
    "    for i in range(len(xL[0])):\n",
    "        add_edge(offsetVLayer[0][side] + i, offsetVLayer[1][side]+i,side)\n",
    "#insert the rest of the cross edges, mapping to the closest angle\n",
    "for j in range(1,len(xL)-2):\n",
    "    nbOut = len(xL[j])\n",
    "    nbIn = len(xL[j+1])\n",
    "    for side in range(2):\n",
    "        for i in range(nbIn):\n",
    "            add_edge(offsetVLayer[j][side] + round(i*nbOut/nbIn),offsetVLayer[j+1][side]+i,side)\n",
    "        for i in range(nbIn-1):\n",
    "            add_face([offsetELayer[j+1][side]+i,offsetECross[j][side]+i] + \n",
    "                      list(range(offsetELayer[j][side] + round(i*nbOut/nbIn),\n",
    "                                 offsetELayer[j][side] + round((i+1)*nbOut/nbIn)))\n",
    "                      + [offsetECross[j][side]+i+1],side)\n",
    "        add_face([offsetELayer[j+1][side]+nbIn-1,offsetECross[j][side]+nbIn-1] + \n",
    "                 list(range(offsetELayer[j][side] + round((nbIn-1)*nbOut/nbIn),\n",
    "                            offsetELayer[j][side] + nbOut))\n",
    "                + [offsetECross[j][side]],side)\n",
    "#insert the curved faces\n",
    "for side in range(2):\n",
    "    for i in range(len(xL[0])-1):\n",
    "        add_face_circle([offsetELayer[1][side]+i, offsetECross[0][side]+i,\n",
    "                         offsetELayer[0][side]+i, offsetECross[0][side]+i+1],\n",
    "                        i,side)\n",
    "    add_face_circle([offsetELayer[1][side]+len(xL[0])-1, offsetECross[0][side]+len(xL[0])-1,\n",
    "                         offsetELayer[0][side]+len(xL[0])-1, offsetECross[0][side]],\n",
    "                        len(xL[0])-1,side)\n",
    "#fill the center\n",
    "offsetE  = offsetECross[-1][1]+len(xL[-2])\n",
    "for side in range(2):\n",
    "    for i in range(len(xL[-2])):\n",
    "        add_edge(offsetVLayer[-2][side]+i,offsetVLayer[-1][side],side)\n",
    "    for i in range(len(xL[-2])-1):\n",
    "        add_face([offsetE + len(xL[-2])*side + i, offsetELayer[-1][side]+i, offsetE + len(xL[-2])*side + i + 1],side)\n",
    "    add_face([offsetE + len(xL[-2])*side + len(xL[-2])-1, offsetELayer[-1][side]+len(xL[-2])-1, offsetE + len(xL[-2])*side],side)\n",
    "    \n"
   ]
  },
  {
   "cell_type": "code",
   "execution_count": null,
   "metadata": {},
   "outputs": [],
   "source": [
    "fig"
   ]
  },
  {
   "cell_type": "code",
   "execution_count": null,
   "metadata": {},
   "outputs": [],
   "source": [
    "M"
   ]
  },
  {
   "cell_type": "code",
   "execution_count": null,
   "metadata": {},
   "outputs": [],
   "source": [
    "with open('./{}_circle.json'.format(len(xL)),'w') as f:\n",
    "    json.dump(M,f, indent = 1)"
   ]
  },
  {
   "cell_type": "code",
   "execution_count": null,
   "metadata": {},
   "outputs": [],
   "source": []
  }
 ],
 "metadata": {
  "kernelspec": {
   "display_name": "Python 3",
   "language": "python",
   "name": "python3"
  },
  "language_info": {
   "codemirror_mode": {
    "name": "ipython",
    "version": 3
   },
   "file_extension": ".py",
   "mimetype": "text/x-python",
   "name": "python",
   "nbconvert_exporter": "python",
   "pygments_lexer": "ipython3",
   "version": "3.6.9"
  }
 },
 "nbformat": 4,
 "nbformat_minor": 4
}
