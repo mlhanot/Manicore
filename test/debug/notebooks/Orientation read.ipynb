{
 "cells": [
  {
   "cell_type": "code",
   "execution_count": null,
   "metadata": {},
   "outputs": [],
   "source": [
    "import matplotlib.pyplot as plt"
   ]
  },
  {
   "cell_type": "code",
   "execution_count": null,
   "metadata": {},
   "outputs": [],
   "source": [
    "Xr = []\n",
    "Yr = []\n",
    "Vr = []\n",
    "with open(\"mesh_plot\",'r') as f:\n",
    "    rows = f.readlines()\n",
    "    for row in rows:\n",
    "        Xr.append(float(row.split()[0]))\n",
    "        Yr.append(float(row.split()[1]))\n",
    "        Vr.append(float(row.split()[2]))\n",
    "nb_pts = 58\n",
    "nb_edges = 120"
   ]
  },
  {
   "cell_type": "code",
   "execution_count": null,
   "metadata": {},
   "outputs": [],
   "source": [
    "Xo = []\n",
    "Yo = []\n",
    "X = []\n",
    "Y = []\n",
    "C = []\n",
    "with open(\"plot_orientation_ref\",'r') as f:\n",
    "    rows = f.readlines()\n",
    "    for row in rows:\n",
    "        Xo.append(float(row.split()[0]))\n",
    "        Yo.append(float(row.split()[1]))\n",
    "        X.append(float(row.split()[2]))\n",
    "        Y.append(float(row.split()[3]))\n",
    "        C.append(int(row.split()[4]))\n",
    "\n",
    "fig, ax =plt.subplots(figsize=(10, 10))\n",
    "ax.scatter(Xr[nb_pts:nb_pts+nb_edges*31],Yr[nb_pts:nb_pts+nb_edges*31],c=Vr[nb_pts:nb_pts+nb_edges*31])\n",
    "ax.quiver(Xo,Yo,X,Y,C,cmap='flag')"
   ]
  },
  {
   "cell_type": "code",
   "execution_count": null,
   "metadata": {},
   "outputs": [],
   "source": [
    "Xo = []\n",
    "Yo = []\n",
    "X = []\n",
    "Y = []\n",
    "C = []\n",
    "with open(\"plot_orientation\",'r') as f:\n",
    "    rows = f.readlines()\n",
    "    for row in rows:\n",
    "        Xo.append(float(row.split()[0]))\n",
    "        Yo.append(float(row.split()[1]))\n",
    "        X.append(float(row.split()[2]))\n",
    "        Y.append(float(row.split()[3]))\n",
    "        C.append(int(row.split()[4]))\n",
    "        \n",
    "fig, ax =plt.subplots(figsize=(10, 10))\n",
    "ax.scatter(Xr[nb_pts:nb_pts+nb_edges*31],Yr[nb_pts:nb_pts+nb_edges*31],c=Vr[nb_pts:nb_pts+nb_edges*31])\n",
    "ax.quiver(Xo,Yo,X,Y,C,cmap='flag')"
   ]
  },
  {
   "cell_type": "code",
   "execution_count": null,
   "metadata": {},
   "outputs": [],
   "source": [
    "Xo = []\n",
    "Yo = []\n",
    "X = []\n",
    "Y = []\n",
    "C = []\n",
    "with open(\"plot_orientation_ref_r\",'r') as f:\n",
    "    rows = f.readlines()\n",
    "    for row in rows:\n",
    "        Xo.append(float(row.split()[0]))\n",
    "        Yo.append(float(row.split()[1]))\n",
    "        X.append(float(row.split()[2]))\n",
    "        Y.append(float(row.split()[3]))\n",
    "        C.append(int(row.split()[4]))\n",
    "\n",
    "fig, ax =plt.subplots(figsize=(10, 10))\n",
    "ax.scatter(Xr[nb_pts:nb_pts+nb_edges*31],Yr[nb_pts:nb_pts+nb_edges*31],c=Vr[nb_pts:nb_pts+nb_edges*31])\n",
    "ax.quiver(Xo,Yo,X,Y,C,cmap='flag')"
   ]
  },
  {
   "cell_type": "code",
   "execution_count": null,
   "metadata": {},
   "outputs": [],
   "source": [
    "Xo = []\n",
    "Yo = []\n",
    "X = []\n",
    "Y = []\n",
    "C = []\n",
    "with open(\"plot_orientation_r\",'r') as f:\n",
    "    rows = f.readlines()\n",
    "    for row in rows:\n",
    "        Xo.append(float(row.split()[0]))\n",
    "        Yo.append(float(row.split()[1]))\n",
    "        X.append(float(row.split()[2]))\n",
    "        Y.append(float(row.split()[3]))\n",
    "        C.append(int(row.split()[4]))\n",
    "        \n",
    "fig, ax =plt.subplots(figsize=(10, 10))\n",
    "ax.scatter(Xr[nb_pts:nb_pts+nb_edges*31],Yr[nb_pts:nb_pts+nb_edges*31],c=Vr[nb_pts:nb_pts+nb_edges*31])\n",
    "ax.quiver(Xo,Yo,X,Y,C,cmap='flag')"
   ]
  }
 ],
 "metadata": {
  "kernelspec": {
   "display_name": "Python 3 (ipykernel)",
   "language": "python",
   "name": "python3"
  },
  "language_info": {
   "codemirror_mode": {
    "name": "ipython",
    "version": 3
   },
   "file_extension": ".py",
   "mimetype": "text/x-python",
   "name": "python",
   "nbconvert_exporter": "python",
   "pygments_lexer": "ipython3",
   "version": "3.11.2"
  }
 },
 "nbformat": 4,
 "nbformat_minor": 4
}
