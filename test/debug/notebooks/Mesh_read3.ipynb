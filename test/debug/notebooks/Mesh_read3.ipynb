{
 "cells": [
  {
   "cell_type": "code",
   "execution_count": null,
   "metadata": {},
   "outputs": [],
   "source": [
    "X = []\n",
    "Y = []\n",
    "Z = []\n",
    "V = []\n",
    "with open(\"mesh_plot_3D\",'r') as f:\n",
    "    rows = f.readlines()\n",
    "    for row in rows:\n",
    "        X.append(float(row.split()[0]))\n",
    "        Y.append(float(row.split()[1]))\n",
    "        Z.append(float(row.split()[2]))\n",
    "        V.append(float(row.split()[3]))"
   ]
  },
  {
   "cell_type": "code",
   "execution_count": null,
   "metadata": {},
   "outputs": [],
   "source": [
    "nb_pts = 58\n",
    "nb_edges = 120\n",
    "\n",
    "import plotly.graph_objects as go\n",
    "marker=dict(\n",
    "        size=2,\n",
    "        color=V,                # set color to an array/list of desired values\n",
    "        colorscale='Viridis',   # choose a colorscale\n",
    "        opacity=0.8\n",
    "        )\n",
    "layout = go.Layout(\n",
    "    template='simple_white'\n",
    ")"
   ]
  },
  {
   "cell_type": "code",
   "execution_count": null,
   "metadata": {},
   "outputs": [],
   "source": [
    "marker['color'] = V[:nb_pts]\n",
    "data=[go.Scatter3d(x=X[:nb_pts],y=Y[:nb_pts],z=Z[:nb_pts],text=V[:nb_pts],mode='markers',marker=marker)]\n",
    "fig = go.Figure(data=data, layout=layout)\n",
    "fig.write_html(\"0-skel.html\")\n",
    "fig.show()"
   ]
  },
  {
   "cell_type": "code",
   "execution_count": null,
   "metadata": {},
   "outputs": [],
   "source": [
    "marker['color'] = V[nb_pts:nb_pts+nb_edges*31]\n",
    "data=[go.Scatter3d(x=X[nb_pts:nb_pts+nb_edges*31],y=Y[nb_pts:nb_pts+nb_edges*31],z=Z[nb_pts:nb_pts+nb_edges*31],text=V[nb_pts:nb_pts+nb_edges*31],mode='markers',marker=marker)]\n",
    "fig = go.Figure(data=data, layout=layout)\n",
    "fig.write_html(\"1-skel.html\")\n",
    "fig.show()"
   ]
  },
  {
   "cell_type": "code",
   "execution_count": null,
   "metadata": {
    "scrolled": false
   },
   "outputs": [],
   "source": [
    "marker['color'] = V[nb_pts+nb_edges*31:]\n",
    "data=[go.Scatter3d(x=X[nb_pts+nb_edges*31:],y=Y[nb_pts+nb_edges*31:],z=Z[nb_pts+nb_edges*31:],text=V[nb_pts+nb_edges*31:],mode='markers',marker=marker)]\n",
    "fig = go.Figure(data=data, layout=layout)\n",
    "fig.write_html(\"2-skel.html\")\n",
    "fig.show()"
   ]
  },
  {
   "cell_type": "code",
   "execution_count": null,
   "metadata": {},
   "outputs": [],
   "source": [
    "marker['color'] = V\n",
    "data=[go.Scatter3d(x=X,y=Y,z=Z,text=V,mode='markers',marker=marker)]\n",
    "fig = go.Figure(data=data, layout=layout)\n",
    "fig.show()"
   ]
  },
  {
   "cell_type": "code",
   "execution_count": null,
   "metadata": {},
   "outputs": [],
   "source": []
  }
 ],
 "metadata": {
  "kernelspec": {
   "display_name": "Python 3 (ipykernel)",
   "language": "python",
   "name": "python3"
  },
  "language_info": {
   "codemirror_mode": {
    "name": "ipython",
    "version": 3
   },
   "file_extension": ".py",
   "mimetype": "text/x-python",
   "name": "python",
   "nbconvert_exporter": "python",
   "pygments_lexer": "ipython3",
   "version": "3.11.2"
  }
 },
 "nbformat": 4,
 "nbformat_minor": 4
}
